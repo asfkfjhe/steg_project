{
 "cells": [
  {
   "cell_type": "code",
   "execution_count": 1,
   "metadata": {},
   "outputs": [],
   "source": [
    "import os\n",
    "os.environ[\"TF_CPP_MIN_LOG_LEVEL\"] = \"3\""
   ]
  },
  {
   "cell_type": "code",
   "execution_count": 2,
   "metadata": {},
   "outputs": [],
   "source": [
    "BATCH_SIZE = 32\n",
    "EPOCHS = 100\n",
    "LEARNING_RATE = 1e-3"
   ]
  },
  {
   "cell_type": "code",
   "execution_count": 3,
   "metadata": {},
   "outputs": [
    {
     "data": {
      "text/plain": [
       "[]"
      ]
     },
     "execution_count": 3,
     "metadata": {},
     "output_type": "execute_result"
    }
   ],
   "source": [
    "import numpy as np\n",
    "import tensorflow as tf\n",
    "tf.config.list_physical_devices('GPU')"
   ]
  },
  {
   "cell_type": "code",
   "execution_count": 4,
   "metadata": {},
   "outputs": [],
   "source": [
    "class ConvLayer(tf.keras.layers.Layer):\n",
    "    def __init__(self, n_layers, filters=50, kernel_size=(3, 3), activation=tf.nn.relu, **kwargs):\n",
    "        super().__init__(**kwargs)\n",
    "        self.convs = []\n",
    "        for conv in range(n_layers):\n",
    "            self.convs.append(\n",
    "                tf.keras.layers.Conv2D(filters=filters, kernel_size=kernel_size, activation=activation, padding='same')\n",
    "            )\n",
    "\n",
    "    def call(self, input_tensor, training=False):\n",
    "        x = self.convs[0](input_tensor, training=training)\n",
    "        for i in range(1, len(self.convs)):\n",
    "            x = self.convs[i](x, training=training)\n",
    "\n",
    "        return x"
   ]
  },
  {
   "cell_type": "code",
   "execution_count": 5,
   "metadata": {},
   "outputs": [],
   "source": [
    "class PrepLayer(tf.keras.layers.Layer):\n",
    "    def __init__(self, **kwargs):\n",
    "        super().__init__(**kwargs)\n",
    "        self.conv_layer_4_3x3 = ConvLayer(4, filters=50, kernel_size=(3, 3), activation=tf.nn.relu)\n",
    "        self.conv_layer_4_4x4 = ConvLayer(4, filters=50, kernel_size=(4, 4), activation=tf.nn.relu)\n",
    "        self.conv_layer_4_5x5 = ConvLayer(4, filters=50, kernel_size=(5, 5), activation=tf.nn.relu)\n",
    "\n",
    "        self.concat_1 = tf.keras.layers.Concatenate(axis=3)\n",
    "\n",
    "        self.conv_1_3x3 = ConvLayer(1, filters=50, kernel_size=(3, 3), activation=tf.nn.relu)\n",
    "        self.conv_1_4x4 = ConvLayer(1, filters=50, kernel_size=(4, 4), activation=tf.nn.relu)\n",
    "        self.conv_1_5x5 = ConvLayer(1, filters=50, kernel_size=(5, 5), activation=tf.nn.relu)\n",
    "\n",
    "        self.concat_2 = tf.keras.layers.Concatenate(axis=3)\n",
    "\n",
    "    def call(self, input_tensor, training=False):\n",
    "        prep_input = tf.keras.layers.Rescaling(1./255, input_shape=input_tensor.shape)(input_tensor)\n",
    "        conv_4_3x3 = self.conv_layer_4_3x3(prep_input, training=training)\n",
    "        conv_4_4x4 = self.conv_layer_4_4x4(prep_input, training=training)\n",
    "        conv_4_5x5 = self.conv_layer_4_5x5(prep_input, training=training)\n",
    "\n",
    "        concat_1 = self.concat_1([conv_4_3x3, conv_4_4x4, conv_4_5x5])\n",
    "\n",
    "        conv_1_3x3 =  self.conv_1_3x3(concat_1)\n",
    "        conv_1_4x4 =  self.conv_1_4x4(concat_1)\n",
    "        conv_1_5x5 =  self.conv_1_5x5(concat_1)\n",
    "\n",
    "        return self.concat_2([conv_1_3x3, conv_1_4x4, conv_1_5x5])"
   ]
  },
  {
   "cell_type": "code",
   "execution_count": 6,
   "metadata": {},
   "outputs": [],
   "source": [
    "class HideLayer(tf.keras.layers.Layer):\n",
    "    def __init__(self, **kwargs):\n",
    "        super().__init__(**kwargs)\n",
    "        self.prep_layer = PrepLayer()\n",
    "        self.concat_1 = tf.keras.layers.Concatenate(axis=3)\n",
    "\n",
    "        self.conv_layer_4_3x3 = ConvLayer(4, filters=50, kernel_size=(3, 3), activation=tf.nn.relu)\n",
    "        self.conv_layer_4_4x4 = ConvLayer(4, filters=50, kernel_size=(4, 4), activation=tf.nn.relu)\n",
    "        self.conv_layer_4_5x5 = ConvLayer(4, filters=50, kernel_size=(5, 5), activation=tf.nn.relu)\n",
    "\n",
    "        self.concat_2 = tf.keras.layers.Concatenate(axis=3)\n",
    "\n",
    "        self.conv_1_3x3 = ConvLayer(1, filters=50, kernel_size=(3, 3), activation=tf.nn.relu)\n",
    "        self.conv_1_4x4 = ConvLayer(1, filters=50, kernel_size=(4, 4), activation=tf.nn.relu)\n",
    "        self.conv_1_5x5 = ConvLayer(1, filters=50, kernel_size=(5, 5), activation=tf.nn.relu)\n",
    "\n",
    "        self.concat_3 = tf.keras.layers.Concatenate(axis=3)\n",
    "\n",
    "        self.conv_1_1x1 = ConvLayer(1, filters=3, kernel_size=(1, 1), activation=tf.nn.relu)\n",
    "\n",
    "    def call(self, input_tensor, training=False):\n",
    "        prep_input = input_tensor[0]\n",
    "        hide_input = tf.keras.layers.Rescaling(1./255, input_shape=input_tensor[1].shape)(input_tensor[1])\n",
    "        concat_1 = self.concat_1([prep_input, hide_input])\n",
    "\n",
    "        conv_4_3x3 = self.conv_layer_4_3x3(concat_1, training=training)\n",
    "        conv_4_4x4 = self.conv_layer_4_4x4(concat_1, training=training)\n",
    "        conv_4_5x5 = self.conv_layer_4_5x5(concat_1, training=training)\n",
    "\n",
    "        concat_2 = self.concat_2([conv_4_3x3, conv_4_4x4, conv_4_5x5])\n",
    "\n",
    "        conv_1_3x3 =  self.conv_1_3x3(concat_2)\n",
    "        conv_1_4x4 =  self.conv_1_4x4(concat_2)\n",
    "        conv_1_5x5 =  self.conv_1_5x5(concat_2)\n",
    "\n",
    "        concat_3 = self.concat_3([conv_1_3x3, conv_1_4x4, conv_1_5x5])\n",
    "\n",
    "        return self.conv_1_1x1(concat_3)"
   ]
  },
  {
   "cell_type": "code",
   "execution_count": 7,
   "metadata": {},
   "outputs": [],
   "source": [
    "class RevealLayer(tf.keras.layers.Layer):\n",
    "    def __init__(self, **kwargs):\n",
    "        super().__init__(**kwargs)\n",
    "        self.conv_layer_4_3x3 = ConvLayer(4, filters=50, kernel_size=(3, 3), activation=tf.nn.relu)\n",
    "        self.conv_layer_4_4x4 = ConvLayer(4, filters=50, kernel_size=(4, 4), activation=tf.nn.relu)\n",
    "        self.conv_layer_4_5x5 = ConvLayer(4, filters=50, kernel_size=(5, 5), activation=tf.nn.relu)\n",
    "\n",
    "        self.concat_1 = tf.keras.layers.Concatenate(axis=3)\n",
    "\n",
    "        self.conv_1_3x3 = ConvLayer(1, filters=50, kernel_size=(3, 3), activation=tf.nn.relu)\n",
    "        self.conv_1_4x4 = ConvLayer(1, filters=50, kernel_size=(4, 4), activation=tf.nn.relu)\n",
    "        self.conv_1_5x5 = ConvLayer(1, filters=50, kernel_size=(5, 5), activation=tf.nn.relu)\n",
    "\n",
    "        self.concat_2 = tf.keras.layers.Concatenate(axis=3)\n",
    "\n",
    "        self.conv_1_1x1 = ConvLayer(1, filters=3, kernel_size=(1, 1), activation=tf.nn.relu)\n",
    "\n",
    "    def call(self, input_tensor, training=False):\n",
    "\n",
    "        conv_4_3x3 = self.conv_layer_4_3x3(input_tensor, training=training)\n",
    "        conv_4_4x4 = self.conv_layer_4_4x4(input_tensor, training=training)\n",
    "        conv_4_5x5 = self.conv_layer_4_5x5(input_tensor, training=training)\n",
    "\n",
    "        concat_1 = self.concat_1([conv_4_3x3, conv_4_4x4, conv_4_5x5])\n",
    "\n",
    "        conv_1_3x3 =  self.conv_1_3x3(concat_1)\n",
    "        conv_1_4x4 =  self.conv_1_4x4(concat_1)\n",
    "        conv_1_5x5 =  self.conv_1_5x5(concat_1)\n",
    "\n",
    "        concat_2 = self.concat_2([conv_1_3x3, conv_1_4x4, conv_1_5x5])\n",
    "\n",
    "        return self.conv_1_1x1(concat_2)"
   ]
  },
  {
   "cell_type": "code",
   "execution_count": 8,
   "metadata": {},
   "outputs": [],
   "source": [
    "class MyModel(tf.keras.models.Model):\n",
    "    def __init__(self, **kwargs):\n",
    "        super().__init__(**kwargs)\n",
    "        self.prep_layer = PrepLayer()\n",
    "        self.hide_layer = HideLayer()\n",
    "        self.reveal_layer = RevealLayer()\n",
    "\n",
    "    def call(self, input_tensor, training=False):\n",
    "        secret = input_tensor[0]\n",
    "        cover = input_tensor[1]\n",
    "        prep_output = self.prep_layer(secret)\n",
    "        hide_output = self.hide_layer([prep_output, cover])\n",
    "        reveal_output = self.reveal_layer(hide_output)\n",
    "\n",
    "        return  reveal_output, hide_output\n",
    "\n",
    "    def model(self, inputs):\n",
    "        return tf.keras.Model(inputs=inputs, outputs=self.call(inputs))"
   ]
  },
  {
   "cell_type": "code",
   "execution_count": 9,
   "metadata": {},
   "outputs": [],
   "source": [
    "class StenographyLoss(tf.keras.losses.Loss):\n",
    "    def __init__(self, beta=1.0, **kwargs):\n",
    "        super().__init__(**kwargs)\n",
    "        self.beta = beta\n",
    "\n",
    "    def call(self, y_true, y_pred):\n",
    "        beta = tf.constant(self.beta, name='beta')\n",
    "\n",
    "        secret_true = y_true[0]\n",
    "        secret_pred = y_pred[0]\n",
    "\n",
    "        cover_true = y_true[1]\n",
    "        cover_pred = y_pred[1]\n",
    "\n",
    "        secret_mse = tf.losses.MSE(secret_true, secret_pred)\n",
    "        cover_mse = tf.losses.MSE(cover_true, cover_pred)\n",
    "\n",
    "        return tf.reduce_mean(cover_mse + beta * secret_mse)"
   ]
  },
  {
   "cell_type": "code",
   "execution_count": 10,
   "metadata": {},
   "outputs": [],
   "source": [
    "secret_input = tf.keras.layers.Input(shape=(64, 64, 3), name='secret_input')\n",
    "cover_input = tf.keras.layers.Input(shape=(64, 64, 3), name='cover_input')\n",
    "\n",
    "model = MyModel().model(inputs=[secret_input, cover_input])"
   ]
  },
  {
   "cell_type": "code",
   "execution_count": 11,
   "metadata": {},
   "outputs": [
    {
     "name": "stdout",
     "output_type": "stream",
     "text": [
      "Model: \"model\"\n",
      "__________________________________________________________________________________________________\n",
      " Layer (type)                   Output Shape         Param #     Connected to                     \n",
      "==================================================================================================\n",
      " secret_input (InputLayer)      [(None, 64, 64, 3)]  0           []                               \n",
      "                                                                                                  \n",
      " prep_layer (PrepLayer)         (None, 64, 64, 150)  758250      ['secret_input[0][0]']           \n",
      "                                                                                                  \n",
      " cover_input (InputLayer)       [(None, 64, 64, 3)]  0           []                               \n",
      "                                                                                                  \n",
      " hide_layer (HideLayer)         (None, 64, 64, 3)    1133703     ['prep_layer[0][0]',             \n",
      "                                                                  'cover_input[0][0]']            \n",
      "                                                                                                  \n",
      " reveal_layer (RevealLayer)     (None, 64, 64, 3)    758703      ['hide_layer[0][0]']             \n",
      "                                                                                                  \n",
      "==================================================================================================\n",
      "Total params: 2,650,656\n",
      "Trainable params: 2,650,656\n",
      "Non-trainable params: 0\n",
      "__________________________________________________________________________________________________\n"
     ]
    }
   ],
   "source": [
    "model.summary()"
   ]
  },
  {
   "cell_type": "code",
   "execution_count": 12,
   "metadata": {},
   "outputs": [
    {
     "name": "stdout",
     "output_type": "stream",
     "text": [
      "You must install pydot (`pip install pydot`) and install graphviz (see instructions at https://graphviz.gitlab.io/download/) for plot_model to work.\n"
     ]
    }
   ],
   "source": [
    "tf.keras.utils.plot_model(\n",
    "    model,\n",
    "    show_shapes=True,\n",
    "    show_dtype=False,\n",
    "    show_layer_names=True,\n",
    "    rankdir='TB',\n",
    "    expand_nested=False,\n",
    "    dpi=96,\n",
    "    layer_range=None,\n",
    "    show_layer_activations=False\n",
    ")"
   ]
  },
  {
   "cell_type": "code",
   "execution_count": 13,
   "metadata": {},
   "outputs": [],
   "source": [
    "optmizer = tf.optimizers.Adam(LEARNING_RATE)\n",
    "stenography_loss = StenographyLoss(beta=1.0)\n",
    "\n",
    "model.compile(\n",
    "    optimizer=optmizer,\n",
    "    loss=stenography_loss,\n",
    ")"
   ]
  },
  {
   "cell_type": "code",
   "execution_count": 14,
   "metadata": {},
   "outputs": [],
   "source": [
    "callbacks = [\n",
    "    tf.keras.callbacks.EarlyStopping(patience=10),\n",
    "    tf.keras.callbacks.ModelCheckpoint(filepath='./checkpoints/model.{epoch:02d}-{val_loss:.2f}.h5'),\n",
    "    tf.keras.callbacks.TensorBoard(log_dir='./logs')\n",
    "]"
   ]
  },
  {
   "cell_type": "code",
   "execution_count": 18,
   "metadata": {},
   "outputs": [],
   "source": [
    "from datasets import load_dataset\n",
    "dataset = load_dataset(\"Maysee/tiny-imagenet\", cache_dir='file:///home/supriya/.cache/huggingface/datasets/Maysee___parquet/Maysee--tiny-imagenet-2eb6c3acd8ebc62a/0.0.0/2a3b91fbd88a2c90d1dbbb32b460cf621d31bd5b05b934492fdef7d8d6f236ec')\n",
    "dataset.clear_cache()"
   ]
  },
  {
   "cell_type": "code",
   "execution_count": null,
   "metadata": {},
   "outputs": [],
   "source": [
    "ModuleNotFoundError                       Traceback (most recent call last)\n",
    "/home/supriya/Desktop/college_project/steg_project/deep_steganography.ipynb Cell 15 line 1\n",
    "----> 1 from datasets import load_dataset\n",
    "      2 dataset = load_dataset(\"Maysee/tiny-imagenet\")\n",
    "\n",
    "ModuleNotFoundError: No module named 'datasets'"
   ]
  }
 ],
 "metadata": {
  "kernelspec": {
   "display_name": "steg_project_venv",
   "language": "python",
   "name": "python3"
  },
  "language_info": {
   "codemirror_mode": {
    "name": "ipython",
    "version": 3
   },
   "file_extension": ".py",
   "mimetype": "text/x-python",
   "name": "python",
   "nbconvert_exporter": "python",
   "pygments_lexer": "ipython3",
   "version": "3.11.5"
  }
 },
 "nbformat": 4,
 "nbformat_minor": 2
}
